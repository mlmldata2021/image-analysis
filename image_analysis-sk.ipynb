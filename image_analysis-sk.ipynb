{
 "cells": [
  {
   "cell_type": "markdown",
   "metadata": {},
   "source": [
    "## Image processing in Python\n",
    "\n",
    "To install (if needed)\n",
    "\n",
    "```bash\n",
    "conda install skikit-image\n",
    "```\n",
    "\n",
    "For more detailed information and examples of advanced image processing techniques, see the tutorial at:\n",
    "https://scikit-image.org/docs/stable/auto_examples/"
   ]
  },
  {
   "cell_type": "code",
   "execution_count": 1,
   "metadata": {},
   "outputs": [],
   "source": [
    "import numpy as np\n",
    "import matplotlib.pyplot as plt\n",
    "\n",
    "import skimage as sk\n",
    "import skimage.io as skio"
   ]
  },
  {
   "cell_type": "markdown",
   "metadata": {},
   "source": [
    "### Load custom image\n",
    "\n",
    "Find an image file (like a jpeg) on your computer or phone, place it in this directory.\n",
    "\n",
    "Change the file name below to match that of your image. "
   ]
  },
  {
   "cell_type": "code",
   "execution_count": 2,
   "metadata": {},
   "outputs": [],
   "source": [
    "imag_file_name = '141.jpg'\n",
    "img = skio.imread(imag_file_name)"
   ]
  },
  {
   "cell_type": "markdown",
   "metadata": {},
   "source": [
    "### RGB colors"
   ]
  },
  {
   "cell_type": "markdown",
   "metadata": {},
   "source": [
    "The image is a NxMx3 matrix of color intensity values (N = number of rows, M = number of columns)."
   ]
  },
  {
   "cell_type": "markdown",
   "metadata": {},
   "source": []
  },
  {
   "cell_type": "markdown",
   "metadata": {},
   "source": [
    "### Grayscale"
   ]
  },
  {
   "cell_type": "markdown",
   "metadata": {},
   "source": [
    "Converting an image to grayscale is a first step for any processing based on relative lightness/darkness of pixels. This includes detecting the edges of shapes."
   ]
  },
  {
   "cell_type": "code",
   "execution_count": null,
   "metadata": {},
   "outputs": [],
   "source": []
  },
  {
   "cell_type": "markdown",
   "metadata": {},
   "source": [
    "### Negative\n",
    "\n",
    "What is a negative? How can we represent the negative as pixel values?"
   ]
  },
  {
   "cell_type": "code",
   "execution_count": null,
   "metadata": {},
   "outputs": [],
   "source": []
  },
  {
   "cell_type": "markdown",
   "metadata": {},
   "source": [
    "### Cropping image\n",
    "\n",
    "Cropping and image is like taking a subset of the image.\n",
    "\n",
    "##### Exercise\n",
    "\n",
    "Experiment with different subsets and make a cropped image (make sure that it is less than 1000x1000 pixels)."
   ]
  },
  {
   "cell_type": "markdown",
   "metadata": {},
   "source": [
    "### Histogram"
   ]
  },
  {
   "cell_type": "code",
   "execution_count": null,
   "metadata": {},
   "outputs": [],
   "source": []
  },
  {
   "cell_type": "markdown",
   "metadata": {},
   "source": [
    "### Gamma correction\n",
    "\n",
    "Gamma correction is transforming the image raising the pixel intensities to a power $\\gamma$.\n",
    "\n",
    "$$ g(x,y) = f(x,y)^\\gamma $$\n",
    "\n",
    "In this equation, $f(x,y)$ is the original image and $g(x,y)$ is the transformed image.\n",
    "\n",
    "##### Exercises\n",
    "\n",
    "* Try this for your cropped image (raise values to a power). Try different gamma values (both >1 and <1) and see what happens to image and to histogram.\n",
    "\n",
    "* Plot the histogram for your transformed images. How do different values of $\\gamma$ affect the distribution of intensity values?"
   ]
  },
  {
   "cell_type": "code",
   "execution_count": null,
   "metadata": {},
   "outputs": [],
   "source": []
  },
  {
   "cell_type": "markdown",
   "metadata": {},
   "source": [
    "### Gradient calculation - Sobel filter\n",
    "\n",
    "The Sobel filter is one way of computing the magnitude of the gradient, which highlights strong differences in intensity values.\n",
    "\n",
    "$$ g(x,y) = | \\nabla f(x,y) | $$\n",
    "\n",
    "High magnitudes of the gradient are one way of detecting the edges of shapes."
   ]
  },
  {
   "cell_type": "code",
   "execution_count": null,
   "metadata": {},
   "outputs": [],
   "source": [
    "from skimage.filters import sobel\n"
   ]
  },
  {
   "cell_type": "markdown",
   "metadata": {},
   "source": [
    "### Smoothing filter \n",
    "\n",
    "Smoothing filters are essentially running averages in two-dimensional spaces. As in time series analysis, the running averages can have different window lengths and weighting."
   ]
  },
  {
   "cell_type": "markdown",
   "metadata": {},
   "source": [
    "#### Running average"
   ]
  },
  {
   "cell_type": "markdown",
   "metadata": {},
   "source": []
  },
  {
   "cell_type": "markdown",
   "metadata": {},
   "source": [
    "#### Gaussian"
   ]
  },
  {
   "cell_type": "markdown",
   "metadata": {},
   "source": []
  },
  {
   "cell_type": "markdown",
   "metadata": {},
   "source": [
    "##### Exercises\n",
    "\n",
    "* Calculate the gradient of a smoothed image\n",
    "* Try different levels of smoothing - how does this affect the gradient?\n",
    "* Choose a smoothing level that minimizes noise, while retaining distinct features in the image."
   ]
  },
  {
   "cell_type": "code",
   "execution_count": null,
   "metadata": {},
   "outputs": [],
   "source": []
  },
  {
   "cell_type": "markdown",
   "metadata": {},
   "source": [
    "### Watershed analysis (if time)\n",
    "\n",
    "One algorithm for feature extraction\n",
    "\n",
    "https://scikit-image.org/docs/dev/auto_examples/segmentation/plot_watershed.html"
   ]
  },
  {
   "cell_type": "code",
   "execution_count": 3,
   "metadata": {},
   "outputs": [],
   "source": [
    "from skimage.segmentation import watershed\n",
    "from skimage.morphology import label\n",
    "from skimage.feature import peak_local_max"
   ]
  },
  {
   "cell_type": "code",
   "execution_count": null,
   "metadata": {},
   "outputs": [],
   "source": []
  }
 ],
 "metadata": {
  "anaconda-cloud": {},
  "kernelspec": {
   "display_name": "Python 3",
   "language": "python",
   "name": "python3"
  },
  "language_info": {
   "codemirror_mode": {
    "name": "ipython",
    "version": 3
   },
   "file_extension": ".py",
   "mimetype": "text/x-python",
   "name": "python",
   "nbconvert_exporter": "python",
   "pygments_lexer": "ipython3",
   "version": "3.8.6"
  }
 },
 "nbformat": 4,
 "nbformat_minor": 4
}
